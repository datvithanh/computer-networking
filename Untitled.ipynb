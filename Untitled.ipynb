{
 "cells": [
  {
   "cell_type": "code",
   "execution_count": 1,
   "metadata": {},
   "outputs": [],
   "source": [
    "from dhcp6 import *\n",
    "from scapy.all import *"
   ]
  },
  {
   "cell_type": "code",
   "execution_count": 5,
   "metadata": {},
   "outputs": [
    {
     "name": "stdout",
     "output_type": "stream",
     "text": [
      "\n",
      "DHCPv6_am.parse_options( dns=\"2001:500::1035\", domain=\"localdomain, local\",\n",
      "        duid=None, iface=conf.iface6, advpref=255, sntpservers=None, \n",
      "        sipdomains=None, sipservers=None, \n",
      "        nisdomain=None, nisservers=None, \n",
      "        nispdomain=None, nispservers=None,\n",
      "        bcmcsdomains=None, bcmcsservers=None)\n",
      "\n",
      "   debug : When set, additional debugging information is printed. \n",
      "\n",
      "   duid   : some DUID class (DUID_LLT, DUID_LL or DUID_EN). If none\n",
      "            is provided a DUID_LLT is constructed based on the MAC \n",
      "            address of the sending interface and launch time of dhcp6d \n",
      "            answering machine. \n",
      "  \n",
      "   iface : the interface to listen/reply on if you do not want to use \n",
      "           conf.iface6.\n",
      "\n",
      "   advpref : Value in [0,255] given to Advertise preference field.\n",
      "             By default, 255 is used. Be aware that this specific\n",
      "             value makes clients stops waiting for further Advertise\n",
      "             messages from other servers.\n",
      "\n",
      "   dns : list of recursive DNS servers addresses (as a string or list). \n",
      "         By default, it is set empty and the associated DHCP6OptDNSServers\n",
      "         option is inactive. See RFC 3646 for details.\n",
      "   domain : a list of DNS search domain (as a string or list). By default, \n",
      "         it is empty and the associated DHCP6OptDomains option is inactive.\n",
      "         See RFC 3646 for details.\n",
      "\n",
      "   sntpservers : a list of SNTP servers IPv6 addresses. By default,\n",
      "         it is empty and the associated DHCP6OptSNTPServers option \n",
      "         is inactive. \n",
      "\n",
      "   sipdomains : a list of SIP domains. By default, it is empty and the\n",
      "         associated DHCP6OptSIPDomains option is inactive. See RFC 3319\n",
      "         for details.\n",
      "   sipservers : a list of SIP servers IPv6 addresses. By default, it is \n",
      "         empty and the associated DHCP6OptSIPDomains option is inactive. \n",
      "         See RFC 3319 for details.\n",
      "\n",
      "   nisdomain : a list of NIS domains. By default, it is empty and the\n",
      "         associated DHCP6OptNISDomains option is inactive. See RFC 3898\n",
      "         for details. See RFC 3646 for details.\n",
      "   nisservers : a list of NIS servers IPv6 addresses. By default, it is \n",
      "         empty and the associated DHCP6OptNISServers option is inactive.\n",
      "         See RFC 3646 for details.\n",
      "\n",
      "   nispdomain : a list of NIS+ domains. By default, it is empty and the\n",
      "         associated DHCP6OptNISPDomains option is inactive. See RFC 3898\n",
      "         for details.\n",
      "   nispservers : a list of NIS+ servers IPv6 addresses. By default, it is \n",
      "         empty and the associated DHCP6OptNISServers option is inactive.\n",
      "         See RFC 3898 for details.\n",
      "\n",
      "   bcmcsdomain : a list of BCMCS domains. By default, it is empty and the\n",
      "         associated DHCP6OptBCMCSDomains option is inactive. See RFC 4280\n",
      "         for details.\n",
      "   bcmcsservers : a list of BCMCS servers IPv6 addresses. By default, it is \n",
      "         empty and the associated DHCP6OptBCMCSServers option is inactive.\n",
      "         See RFC 4280 for details.\n",
      "\n",
      "   If you have a need for others, just ask ... or provide a patch.\n"
     ]
    }
   ],
   "source": [
    "client = DHCPv6_am()\n",
    "client.usage()"
   ]
  },
  {
   "cell_type": "code",
   "execution_count": 3,
   "metadata": {},
   "outputs": [
    {
     "data": {
      "text/plain": [
       "'lo0'"
      ]
     },
     "execution_count": 3,
     "metadata": {},
     "output_type": "execute_result"
    }
   ],
   "source": [
    "client.iface"
   ]
  },
  {
   "cell_type": "code",
   "execution_count": null,
   "metadata": {},
   "outputs": [],
   "source": []
  }
 ],
 "metadata": {
  "kernelspec": {
   "display_name": "Python 3",
   "language": "python",
   "name": "python3"
  },
  "language_info": {
   "codemirror_mode": {
    "name": "ipython",
    "version": 3
   },
   "file_extension": ".py",
   "mimetype": "text/x-python",
   "name": "python",
   "nbconvert_exporter": "python",
   "pygments_lexer": "ipython3",
   "version": "3.6.7"
  }
 },
 "nbformat": 4,
 "nbformat_minor": 2
}
